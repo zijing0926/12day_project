{
 "cells": [
  {
   "cell_type": "code",
   "execution_count": 1,
   "metadata": {
    "collapsed": true
   },
   "outputs": [],
   "source": [
    "from bokeh.plotting import figure, show\n",
    "from bokeh.models.formatters import DatetimeTickFormatter\n",
    "from bokeh.models import ColumnDataSource\n",
    "from bokeh.models.tools import HoverTool\n",
    "import pandas as pd\n",
    "import numpy as np"
   ]
  },
  {
   "cell_type": "code",
   "execution_count": 2,
   "metadata": {
    "collapsed": true
   },
   "outputs": [],
   "source": [
    "def style(p):\n",
    "        # Title \n",
    "        p.title.align = 'center'\n",
    "        p.title.text_font_size = '20pt'\n",
    "        p.title.text_font = 'serif'\n",
    "\n",
    "        # Axis titles\n",
    "        p.xaxis.axis_label_text_font_size = '14pt'\n",
    "        p.xaxis.axis_label_text_font_style = 'bold'\n",
    "        p.yaxis.axis_label_text_font_size = '14pt'\n",
    "        p.yaxis.axis_label_text_font_style = 'bold'\n",
    "\n",
    "        # Tick labels\n",
    "        p.xaxis.major_label_text_font_size = '12pt'\n",
    "        p.yaxis.major_label_text_font_size = '12pt'\n",
    "\n",
    "        return p"
   ]
  },
  {
   "cell_type": "code",
   "execution_count": 5,
   "metadata": {},
   "outputs": [],
   "source": [
    "df=pd.read_csv('WIKI-FB.csv')\n",
    "df['Date']=pd.to_datetime(df['Date'])\n",
    "df['tooltip'] = [x.strftime(\"%Y-%m-%d %H:%M:%S\") for x in df['Date']]\n",
    "p = figure(plot_height = 600, plot_width = 600, \n",
    "           title = 'FB Stock Price',\n",
    "          x_axis_label = 'Dates', \n",
    "           y_axis_label = 'Close Price')\n",
    "\n",
    "\n",
    "p.xaxis.formatter = DatetimeTickFormatter(\n",
    " hours=[\"%d %B %Y\"],\n",
    " days=[\"%d %B %Y\"],\n",
    " months=[\"%d %B %Y\"],\n",
    " years=[\"%d %B %Y\"],\n",
    ")\n",
    "\n",
    "p.line(x='Date', y='Close', source=ColumnDataSource(df),\n",
    "       legend='Price',color='navy',alpha=0.7)\n",
    "\n",
    "p.legend.location=\"top_left\"\n",
    "\n",
    "p.xaxis.major_label_orientation = 3.14/4\n",
    "\n",
    "hover = HoverTool(tooltips = [('Close price', '@Close'),\n",
    "                             ('Dates', '@tooltip')])\n",
    "\n",
    "p.add_tools(hover)\n",
    "# Style the plot\n",
    "p = style(p)\n",
    "show(p)"
   ]
  },
  {
   "cell_type": "code",
   "execution_count": 14,
   "metadata": {
    "collapsed": true
   },
   "outputs": [],
   "source": [
    "from bokeh.io import output_file\n",
    "# Specify the output file and save\n",
    "output_file('close.html')\n",
    "show(p)"
   ]
  },
  {
   "cell_type": "code",
   "execution_count": null,
   "metadata": {
    "collapsed": true
   },
   "outputs": [],
   "source": []
  }
 ],
 "metadata": {
  "kernelspec": {
   "display_name": "Python 3",
   "language": "python",
   "name": "python3"
  },
  "language_info": {
   "codemirror_mode": {
    "name": "ipython",
    "version": 3
   },
   "file_extension": ".py",
   "mimetype": "text/x-python",
   "name": "python",
   "nbconvert_exporter": "python",
   "pygments_lexer": "ipython3",
   "version": "3.6.6"
  }
 },
 "nbformat": 4,
 "nbformat_minor": 2
}
